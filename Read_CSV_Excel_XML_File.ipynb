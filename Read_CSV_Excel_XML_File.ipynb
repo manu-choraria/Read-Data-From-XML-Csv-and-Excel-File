# To Read CSV File

import pandas as pd
titanic = pd.io.parsers.read_csv("/content/sample_data/titanic.csv")
x = titanic[['Age']]
print(x)

#To Read Excel File

import pandas as pd
xls =  pd.read_excel("/content/sample_data/Values (1).xls")
print(xls)

#To Read XML File

from lxml import objectify
import pandas as pd
xml=objectify.parse('/content/XMLData.xml')
root=xml.getroot()
df=pd.DataFrame(columns=('Numbers','String','Boolean'))
for i in range(0,4):
    obj=root.getchildren()[i].getchildren()
    row= dict(zip(['Numbers','String','Boolean'],[obj[0].text,obj[1].text,obj[2].text]))
    row_s=pd.Series(row)
    row_s.name=i+1
    df=df.append(row_s)
print(df)
